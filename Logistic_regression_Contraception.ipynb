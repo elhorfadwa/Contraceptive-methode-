{
 "cells": [
  {
   "cell_type": "markdown",
   "metadata": {},
   "source": [
    "# Contraceptive_method_used"
   ]
  },
  {
   "cell_type": "raw",
   "metadata": {},
   "source": [
    "source dataset: https://www.openml.org/d/119\n",
    "\n",
    "This dataset is a subset of the 1987 National Indonesia Contraceptive Prevalence Survey. The samples are married women who were either not pregnant or do not know if they were at the time of interview. The problem is to predict the current contraceptive method choice (no use, long-term methods, or short-term methods) of a woman based on her demographic and socio-economic characteristics.\n",
    "\n",
    "The data has nominal values and object values. it will be used to implement a logistic regression model with a dependent variable with 3 classes.\n",
    "# Variables description:\n",
    "\n",
    "    1. Wife's age (Object) \n",
    "    2. Wife's education (categorical) 1=low, 2, 3, 4=high \n",
    "    3. Husband's education (categorical) 1=low, 2, 3, 4=high \n",
    "    4. Number of children ever born (Object) \n",
    "    5. Wife's religion (binary) 0=Non-Islam, 1=Islam \n",
    "    6. Wife's now working? (binary) 0=Yes, 1=No \n",
    "    7. Husband's occupation (categorical) 1, 2, 3, 4 \n",
    "    8. Standard-of-living index (categorical) 1=low, 2, 3, 4=high \n",
    "    9. Media exposure (binary) 0=Good, 1=Not good \n",
    "    10. Contraceptive method used (class attribute) 1=No-use, 2=Long-term, 3=Short-term\n",
    "\n",
    "\n"
   ]
  },
  {
   "cell_type": "code",
   "execution_count": null,
   "metadata": {},
   "outputs": [],
   "source": []
  },
  {
   "cell_type": "code",
   "execution_count": 146,
   "metadata": {},
   "outputs": [],
   "source": [
    "import os\n",
    "import pandas as pd\n",
    "import numpy as np\n",
    "from sklearn.preprocessing import StandardScaler\n",
    "from sklearn.linear_model import LogisticRegression\n",
    "from sklearn.model_selection import train_test_split\n",
    "from sklearn.metrics import accuracy_score, confusion_matrix\n",
    "from sklearn.feature_selection import RFE\n",
    "from sklearn.metrics import classification_report \n",
    "from statistics import mean, stdev\n",
    "from sklearn.model_selection import KFold, cross_val_score, cross_validate\n"
   ]
  },
  {
   "cell_type": "markdown",
   "metadata": {},
   "source": [
    "# Data preprocessing"
   ]
  },
  {
   "cell_type": "code",
   "execution_count": null,
   "metadata": {},
   "outputs": [],
   "source": [
    "df=pd.read_csv(\"BayesianNetworkGenerator_cmc.csv\")"
   ]
  },
  {
   "cell_type": "code",
   "execution_count": 110,
   "metadata": {},
   "outputs": [
    {
     "data": {
      "text/plain": [
       "(55296, 10)"
      ]
     },
     "execution_count": 110,
     "metadata": {},
     "output_type": "execute_result"
    }
   ],
   "source": [
    "df.shape"
   ]
  },
  {
   "cell_type": "code",
   "execution_count": 75,
   "metadata": {},
   "outputs": [
    {
     "data": {
      "text/plain": [
       "Wifes_age                       int64\n",
       "Wifes_education                 int64\n",
       "Husbands_education              int64\n",
       "Number_of_children_ever_born    int64\n",
       "Wifes_religion                  int64\n",
       "Wifes_now_working%3F            int64\n",
       "Husbands_occupation             int64\n",
       "Standard-of-living_index        int64\n",
       "Media_exposure                  int64\n",
       "Contraceptive_method_used       int64\n",
       "dtype: object"
      ]
     },
     "execution_count": 75,
     "metadata": {},
     "output_type": "execute_result"
    }
   ],
   "source": [
    "df.dtypes"
   ]
  },
  {
   "cell_type": "code",
   "execution_count": 14,
   "metadata": {},
   "outputs": [
    {
     "data": {
      "text/plain": [
       "Wifes_age                       0\n",
       "Wifes_education                 0\n",
       "Husbands_education              0\n",
       "Number_of_children_ever_born    0\n",
       "Wifes_religion                  0\n",
       "Wifes_now_working%3F            0\n",
       "Husbands_occupation             0\n",
       "Standard-of-living_index        0\n",
       "Media_exposure                  0\n",
       "Contraceptive_method_used       0\n",
       "dtype: int64"
      ]
     },
     "execution_count": 14,
     "metadata": {},
     "output_type": "execute_result"
    }
   ],
   "source": [
    "df.isnull().sum()"
   ]
  },
  {
   "cell_type": "code",
   "execution_count": 74,
   "metadata": {},
   "outputs": [
    {
     "data": {
      "text/html": [
       "<div>\n",
       "<style scoped>\n",
       "    .dataframe tbody tr th:only-of-type {\n",
       "        vertical-align: middle;\n",
       "    }\n",
       "\n",
       "    .dataframe tbody tr th {\n",
       "        vertical-align: top;\n",
       "    }\n",
       "\n",
       "    .dataframe thead th {\n",
       "        text-align: right;\n",
       "    }\n",
       "</style>\n",
       "<table border=\"1\" class=\"dataframe\">\n",
       "  <thead>\n",
       "    <tr style=\"text-align: right;\">\n",
       "      <th></th>\n",
       "      <th>Wifes_age</th>\n",
       "      <th>Wifes_education</th>\n",
       "      <th>Husbands_education</th>\n",
       "      <th>Number_of_children_ever_born</th>\n",
       "      <th>Wifes_religion</th>\n",
       "      <th>Wifes_now_working%3F</th>\n",
       "      <th>Husbands_occupation</th>\n",
       "      <th>Standard-of-living_index</th>\n",
       "      <th>Media_exposure</th>\n",
       "      <th>Contraceptive_method_used</th>\n",
       "    </tr>\n",
       "  </thead>\n",
       "  <tbody>\n",
       "    <tr>\n",
       "      <th>0</th>\n",
       "      <td>2</td>\n",
       "      <td>2</td>\n",
       "      <td>3</td>\n",
       "      <td>2</td>\n",
       "      <td>0</td>\n",
       "      <td>1</td>\n",
       "      <td>3</td>\n",
       "      <td>4</td>\n",
       "      <td>0</td>\n",
       "      <td>3</td>\n",
       "    </tr>\n",
       "    <tr>\n",
       "      <th>1</th>\n",
       "      <td>2</td>\n",
       "      <td>2</td>\n",
       "      <td>3</td>\n",
       "      <td>1</td>\n",
       "      <td>1</td>\n",
       "      <td>1</td>\n",
       "      <td>2</td>\n",
       "      <td>2</td>\n",
       "      <td>0</td>\n",
       "      <td>1</td>\n",
       "    </tr>\n",
       "    <tr>\n",
       "      <th>2</th>\n",
       "      <td>2</td>\n",
       "      <td>1</td>\n",
       "      <td>2</td>\n",
       "      <td>1</td>\n",
       "      <td>1</td>\n",
       "      <td>1</td>\n",
       "      <td>3</td>\n",
       "      <td>3</td>\n",
       "      <td>0</td>\n",
       "      <td>3</td>\n",
       "    </tr>\n",
       "    <tr>\n",
       "      <th>3</th>\n",
       "      <td>1</td>\n",
       "      <td>1</td>\n",
       "      <td>1</td>\n",
       "      <td>1</td>\n",
       "      <td>1</td>\n",
       "      <td>1</td>\n",
       "      <td>2</td>\n",
       "      <td>3</td>\n",
       "      <td>0</td>\n",
       "      <td>2</td>\n",
       "    </tr>\n",
       "    <tr>\n",
       "      <th>4</th>\n",
       "      <td>2</td>\n",
       "      <td>4</td>\n",
       "      <td>3</td>\n",
       "      <td>1</td>\n",
       "      <td>1</td>\n",
       "      <td>0</td>\n",
       "      <td>3</td>\n",
       "      <td>4</td>\n",
       "      <td>0</td>\n",
       "      <td>2</td>\n",
       "    </tr>\n",
       "  </tbody>\n",
       "</table>\n",
       "</div>"
      ],
      "text/plain": [
       "   Wifes_age  Wifes_education  Husbands_education  \\\n",
       "0          2                2                   3   \n",
       "1          2                2                   3   \n",
       "2          2                1                   2   \n",
       "3          1                1                   1   \n",
       "4          2                4                   3   \n",
       "\n",
       "   Number_of_children_ever_born  Wifes_religion  Wifes_now_working%3F  \\\n",
       "0                             2               0                     1   \n",
       "1                             1               1                     1   \n",
       "2                             1               1                     1   \n",
       "3                             1               1                     1   \n",
       "4                             1               1                     0   \n",
       "\n",
       "   Husbands_occupation  Standard-of-living_index  Media_exposure  \\\n",
       "0                    3                         4               0   \n",
       "1                    2                         2               0   \n",
       "2                    3                         3               0   \n",
       "3                    2                         3               0   \n",
       "4                    3                         4               0   \n",
       "\n",
       "   Contraceptive_method_used  \n",
       "0                          3  \n",
       "1                          1  \n",
       "2                          3  \n",
       "3                          2  \n",
       "4                          2  "
      ]
     },
     "execution_count": 74,
     "metadata": {},
     "output_type": "execute_result"
    }
   ],
   "source": [
    "df.head(5)"
   ]
  },
  {
   "cell_type": "raw",
   "metadata": {},
   "source": [
    "both columns \"Wifes_age\" and \"Number_of_children_ever_born\" are object type --> to modify"
   ]
  },
  {
   "cell_type": "code",
   "execution_count": 13,
   "metadata": {},
   "outputs": [
    {
     "data": {
      "text/plain": [
       "1    23655\n",
       "3    19086\n",
       "2    12555\n",
       "Name: Contraceptive_method_used, dtype: int64"
      ]
     },
     "execution_count": 13,
     "metadata": {},
     "output_type": "execute_result"
    }
   ],
   "source": [
    "df[\"Contraceptive_method_used\"].value_counts() # target variable contain 3 values"
   ]
  },
  {
   "cell_type": "code",
   "execution_count": 66,
   "metadata": {},
   "outputs": [],
   "source": [
    "\n",
    "df['Number_of_children_ever_born'] = df['Number_of_children_ever_born'].replace(\"\\'\\\\'B1of3\\\\''\", 1)\n",
    "df['Number_of_children_ever_born'] = df['Number_of_children_ever_born'].replace(\"\\'\\\\'B2of3\\\\''\", 2)\n",
    "df['Number_of_children_ever_born'] = df['Number_of_children_ever_born'].replace(\"\\'\\\\'B3of3\\\\''\", 3)"
   ]
  },
  {
   "cell_type": "code",
   "execution_count": 73,
   "metadata": {},
   "outputs": [],
   "source": [
    "df['Wifes_age'] = df['Wifes_age'].replace(\"\\'\\\\'B1of3\\\\''\", 1)\n",
    "df['Wifes_age'] = df['Wifes_age'].replace(\"\\'\\\\'B2of3\\\\''\", 2)\n",
    "df['Wifes_age'] = df['Wifes_age'].replace(\"\\'\\\\'B3of3\\\\''\", 3)"
   ]
  },
  {
   "cell_type": "markdown",
   "metadata": {},
   "source": [
    "split data to dependent (target) and independent variables"
   ]
  },
  {
   "cell_type": "code",
   "execution_count": 99,
   "metadata": {},
   "outputs": [],
   "source": [
    "X= df.drop('Contraceptive_method_used',axis=1)\n",
    "y = df.Contraceptive_method_used\n"
   ]
  },
  {
   "cell_type": "code",
   "execution_count": 109,
   "metadata": {},
   "outputs": [
    {
     "data": {
      "text/plain": [
       "(55296, 9)"
      ]
     },
     "execution_count": 109,
     "metadata": {},
     "output_type": "execute_result"
    }
   ],
   "source": [
    "X.shape"
   ]
  },
  {
   "cell_type": "raw",
   "metadata": {},
   "source": [
    "regarding RFE function, all the features are relevant in building the logistic regression model"
   ]
  },
  {
   "cell_type": "code",
   "execution_count": 91,
   "metadata": {},
   "outputs": [],
   "source": [
    "#split train and test sets\n",
    "\n",
    "X_train, X_test, y_train, y_test = train_test_split(X, y, test_size=0.3,random_state=0)\n"
   ]
  },
  {
   "cell_type": "raw",
   "metadata": {},
   "source": [
    "Performance of logistic model"
   ]
  },
  {
   "cell_type": "code",
   "execution_count": 117,
   "metadata": {},
   "outputs": [
    {
     "name": "stdout",
     "output_type": "stream",
     "text": [
      "Accuracy of logistic regression classifier on train set: 0.49\n",
      "Accuracy of logistic regression classifier on test set: 0.49\n"
     ]
    }
   ],
   "source": [
    "\n",
    "#import classifier\n",
    "\n",
    "logreg = LogisticRegression(C=1, solver='lbfgs', multi_class='ovr')\n",
    "\n",
    "\n",
    "#train classifier\n",
    "logreg.fit(X_train,y_train)\n",
    "\n",
    "#classifier performance on test set\n",
    "logreg.score(X_test,y_test)\n",
    "\n",
    "print('Accuracy of logistic regression classifier on train set: {:.2f}'\n",
    "      .format(logreg.score(X_train,y_train)))\n",
    "\n",
    "print('Accuracy of logistic regression classifier on test set: {:.2f}'\n",
    "      .format(logreg.score(X_test,y_test)))\n",
    "\n",
    "\n"
   ]
  },
  {
   "cell_type": "code",
   "execution_count": null,
   "metadata": {},
   "outputs": [],
   "source": [
    "#predictions for test\n",
    "y_pred = logreg.predict(X_test)"
   ]
  },
  {
   "cell_type": "raw",
   "metadata": {},
   "source": [
    "\n",
    "#import performance measure tools\n",
    "#from sklearn.metrics import accuracy_score, confusion_matrix"
   ]
  },
  {
   "cell_type": "code",
   "execution_count": 119,
   "metadata": {},
   "outputs": [
    {
     "data": {
      "text/plain": [
       "0.48833564410151303"
      ]
     },
     "execution_count": 119,
     "metadata": {},
     "output_type": "execute_result"
    }
   ],
   "source": [
    "accuracy_score(y_test,y_pred)\n"
   ]
  },
  {
   "cell_type": "code",
   "execution_count": 120,
   "metadata": {},
   "outputs": [],
   "source": [
    "confusion =confusion_matrix(y_test,y_pred)"
   ]
  },
  {
   "cell_type": "code",
   "execution_count": 132,
   "metadata": {},
   "outputs": [
    {
     "name": "stdout",
     "output_type": "stream",
     "text": [
      "Confusion Matrix:\n",
      " [[4353  910 1884]\n",
      " [1291 1542  904]\n",
      " [2568  931 2206]]\n",
      "\n",
      " Accuracy: 0.49\n"
     ]
    }
   ],
   "source": [
    "\n",
    "print('Confusion Matrix:\\n', confusion)\n",
    "print(\"\\n Accuracy: {:.2f}\".format(accuracy_score(y_test,y_pred)))\n"
   ]
  },
  {
   "cell_type": "code",
   "execution_count": 138,
   "metadata": {},
   "outputs": [
    {
     "name": "stdout",
     "output_type": "stream",
     "text": [
      "              precision    recall  f1-score   support\n",
      "\n",
      "           1       0.53      0.61      0.57      7147\n",
      "           2       0.46      0.41      0.43      3737\n",
      "           3       0.44      0.39      0.41      5705\n",
      "\n",
      "   micro avg       0.49      0.49      0.49     16589\n",
      "   macro avg       0.48      0.47      0.47     16589\n",
      "weighted avg       0.48      0.49      0.48     16589\n",
      "\n"
     ]
    }
   ],
   "source": [
    "#Classification Report including precision and recall scores:\n",
    "\n",
    "print(classification_report(y_test,y_pred))\n"
   ]
  },
  {
   "cell_type": "raw",
   "metadata": {},
   "source": [
    "the accuracy is only 49% --> model doesn't fit well\n",
    "precision is TP/(TP+FP)\n",
    "Recall is TP/(TP + FN) "
   ]
  },
  {
   "cell_type": "code",
   "execution_count": 150,
   "metadata": {
    "scrolled": true
   },
   "outputs": [
    {
     "name": "stdout",
     "output_type": "stream",
     "text": [
      "[0.433178612333474, 0.43293748869732956, 0.4337814214238351, 0.4332388932425101, 0.43565012960395444]\n",
      "Mean of testing accuracy over 5 folds = 0.43 with std = 0.00\n"
     ]
    }
   ],
   "source": [
    "#Runnig K-Fold:\n",
    "\n",
    "#from statistics import mean, stdev\n",
    "#from sklearn.model_selection import KFold, cross_val_score, cross_validate\n",
    "\n",
    "kf=KFold(n_splits=5, shuffle=True, random_state=None)\n",
    "\n",
    "logreg = LogisticRegression(C=1, solver='lbfgs', multi_class='ovr')\n",
    "kf_scores=[]\n",
    "\n",
    "for train_index, test_index in kf.split(X):\n",
    "    X_train, y_train=X.iloc[train_index], y.iloc[train_index]\n",
    "    logreg.fit(X_train,y_train)\n",
    "    y_pred = logreg.predict(X_test)\n",
    "    kf_scores.append(accuracy_score(y_test,y_pred))\n",
    "print(kf_scores)\n",
    "\n",
    "print('Mean of testing accuracy over 5 folds = %.2f'% mean(kf_scores), 'with std = %.2f'%\n",
    "      stdev(kf_scores))"
   ]
  },
  {
   "cell_type": "raw",
   "metadata": {},
   "source": [
    "with Kfold, we get the same accuracy ~ 0.43"
   ]
  },
  {
   "cell_type": "markdown",
   "metadata": {},
   "source": [
    "Conclusion: For Logistic regression, the model is not the best to use with this data set, the accuracy is weak even if I change C value."
   ]
  }
 ],
 "metadata": {
  "kernelspec": {
   "display_name": "Python 3 (ipykernel)",
   "language": "python",
   "name": "python3"
  },
  "language_info": {
   "codemirror_mode": {
    "name": "ipython",
    "version": 3
   },
   "file_extension": ".py",
   "mimetype": "text/x-python",
   "name": "python",
   "nbconvert_exporter": "python",
   "pygments_lexer": "ipython3",
   "version": "3.9.7"
  }
 },
 "nbformat": 4,
 "nbformat_minor": 2
}
